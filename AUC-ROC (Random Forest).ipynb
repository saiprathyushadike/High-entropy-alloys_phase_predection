{
 "cells": [
  {
   "cell_type": "code",
   "execution_count": 1,
   "metadata": {},
   "outputs": [
    {
     "name": "stderr",
     "output_type": "stream",
     "text": [
      "C:\\Users\\User\\anaconda3\\lib\\site-packages\\sklearn\\externals\\joblib\\__init__.py:15: FutureWarning: sklearn.externals.joblib is deprecated in 0.21 and will be removed in 0.23. Please import this functionality directly from joblib, which can be installed with: pip install joblib. If this warning is raised when loading pickled models, you may need to re-serialize those models with scikit-learn 0.21+.\n",
      "  warnings.warn(msg, category=FutureWarning)\n"
     ]
    }
   ],
   "source": [
    "import numpy as np\n",
    "from numpy import mean\n",
    "from numpy import std\n",
    "import pandas as pd \n",
    "from sklearn.model_selection import train_test_split\n",
    "from sklearn.preprocessing import StandardScaler\n",
    "from sklearn.ensemble import RandomForestClassifier\n",
    "from sklearn.metrics import confusion_matrix\n",
    "from sklearn.metrics import accuracy_score\n",
    "from sklearn.externals import joblib\n",
    "from sklearn.model_selection import KFold\n",
    "from sklearn.model_selection import cross_val_score\n",
    "from sklearn.metrics import confusion_matrix\n",
    "from sklearn.model_selection import cross_val_predict"
   ]
  },
  {
   "cell_type": "code",
   "execution_count": 2,
   "metadata": {},
   "outputs": [],
   "source": [
    "from sklearn.metrics import roc_curve, auc\n",
    "from sklearn.multiclass import OneVsRestClassifier\n",
    "from sklearn.svm import SVC\n",
    "from sklearn.preprocessing import label_binarize\n",
    "import matplotlib.pyplot as plt\n",
    "from itertools import cycle\n",
    "from scipy import interp\n",
    "from sklearn.metrics import roc_auc_score"
   ]
  },
  {
   "cell_type": "code",
   "execution_count": 3,
   "metadata": {},
   "outputs": [
    {
     "data": {
      "text/html": [
       "<div>\n",
       "<style scoped>\n",
       "    .dataframe tbody tr th:only-of-type {\n",
       "        vertical-align: middle;\n",
       "    }\n",
       "\n",
       "    .dataframe tbody tr th {\n",
       "        vertical-align: top;\n",
       "    }\n",
       "\n",
       "    .dataframe thead th {\n",
       "        text-align: right;\n",
       "    }\n",
       "</style>\n",
       "<table border=\"1\" class=\"dataframe\">\n",
       "  <thead>\n",
       "    <tr style=\"text-align: right;\">\n",
       "      <th></th>\n",
       "      <th>Alloy</th>\n",
       "      <th>No</th>\n",
       "      <th>Component</th>\n",
       "      <th>Fraction</th>\n",
       "      <th>a</th>\n",
       "      <th>delta</th>\n",
       "      <th>Tm</th>\n",
       "      <th>D_Tm</th>\n",
       "      <th>Hmix</th>\n",
       "      <th>?Hmix</th>\n",
       "      <th>Sid</th>\n",
       "      <th>Elec_nega</th>\n",
       "      <th>D_elec_nega</th>\n",
       "      <th>VEC</th>\n",
       "      <th>d_VEC</th>\n",
       "      <th>BulkModulus</th>\n",
       "      <th>D_Bulk</th>\n",
       "      <th>Phase_inshort</th>\n",
       "    </tr>\n",
       "  </thead>\n",
       "  <tbody>\n",
       "    <tr>\n",
       "      <th>0</th>\n",
       "      <td>Zr45.38Ti9.62Cu8.75Ni10Be26.25</td>\n",
       "      <td>5</td>\n",
       "      <td>Zr Ti Cu Ni Be</td>\n",
       "      <td>45.38 9.62 8.75 10 26.25</td>\n",
       "      <td>1.400611</td>\n",
       "      <td>0.146608</td>\n",
       "      <td>1853.515475</td>\n",
       "      <td>283.938040</td>\n",
       "      <td>-37.996770</td>\n",
       "      <td>12.967122</td>\n",
       "      <td>1.378296</td>\n",
       "      <td>1.521077</td>\n",
       "      <td>0.211945</td>\n",
       "      <td>4.687500</td>\n",
       "      <td>2.909440</td>\n",
       "      <td>1.070000e+11</td>\n",
       "      <td>36.898355</td>\n",
       "      <td>AM</td>\n",
       "    </tr>\n",
       "    <tr>\n",
       "      <th>1</th>\n",
       "      <td>AlCoCu</td>\n",
       "      <td>3</td>\n",
       "      <td>Al Co Cu</td>\n",
       "      <td>7 1 2</td>\n",
       "      <td>1.383100</td>\n",
       "      <td>0.054241</td>\n",
       "      <td>1101.783000</td>\n",
       "      <td>278.066294</td>\n",
       "      <td>-5.400000</td>\n",
       "      <td>4.272798</td>\n",
       "      <td>0.801819</td>\n",
       "      <td>1.695000</td>\n",
       "      <td>0.129942</td>\n",
       "      <td>5.200000</td>\n",
       "      <td>3.400000</td>\n",
       "      <td>9.920000e+10</td>\n",
       "      <td>36.912870</td>\n",
       "      <td>IM</td>\n",
       "    </tr>\n",
       "    <tr>\n",
       "      <th>2</th>\n",
       "      <td>Al20Li20Mg10Sc20Ti30</td>\n",
       "      <td>5</td>\n",
       "      <td>Al Li Mg Sc Ti</td>\n",
       "      <td>20 20 10 20 30</td>\n",
       "      <td>1.517100</td>\n",
       "      <td>0.051625</td>\n",
       "      <td>1314.832000</td>\n",
       "      <td>600.177793</td>\n",
       "      <td>-0.400000</td>\n",
       "      <td>14.116742</td>\n",
       "      <td>1.557113</td>\n",
       "      <td>1.383000</td>\n",
       "      <td>0.225435</td>\n",
       "      <td>2.800000</td>\n",
       "      <td>1.077033</td>\n",
       "      <td>6.630000e+10</td>\n",
       "      <td>35.581034</td>\n",
       "      <td>SS</td>\n",
       "    </tr>\n",
       "    <tr>\n",
       "      <th>3</th>\n",
       "      <td>CoCrCuFeZr0.8</td>\n",
       "      <td>5</td>\n",
       "      <td>Co Cr Cu Fe Zr</td>\n",
       "      <td>1 1 1 1 0.8</td>\n",
       "      <td>1.312792</td>\n",
       "      <td>0.099336</td>\n",
       "      <td>1837.327083</td>\n",
       "      <td>295.977082</td>\n",
       "      <td>-9.687500</td>\n",
       "      <td>10.484101</td>\n",
       "      <td>1.605807</td>\n",
       "      <td>1.736250</td>\n",
       "      <td>0.201097</td>\n",
       "      <td>7.750000</td>\n",
       "      <td>2.349645</td>\n",
       "      <td>1.470000e+11</td>\n",
       "      <td>36.733420</td>\n",
       "      <td>AM+IM</td>\n",
       "    </tr>\n",
       "    <tr>\n",
       "      <th>4</th>\n",
       "      <td>Al0.5CoCrCuFeNiTi1.4</td>\n",
       "      <td>7</td>\n",
       "      <td>Al Co Cr Cu Fe Ni Ti</td>\n",
       "      <td>0.5 1 1 1 1 1 1.4</td>\n",
       "      <td>1.308377</td>\n",
       "      <td>0.069377</td>\n",
       "      <td>1743.319565</td>\n",
       "      <td>324.684788</td>\n",
       "      <td>-14.022264</td>\n",
       "      <td>9.492334</td>\n",
       "      <td>1.913480</td>\n",
       "      <td>1.759565</td>\n",
       "      <td>0.147643</td>\n",
       "      <td>7.405797</td>\n",
       "      <td>2.704365</td>\n",
       "      <td>1.480000e+11</td>\n",
       "      <td>32.645454</td>\n",
       "      <td>IM+SS</td>\n",
       "    </tr>\n",
       "  </tbody>\n",
       "</table>\n",
       "</div>"
      ],
      "text/plain": [
       "                            Alloy  No             Component  \\\n",
       "0  Zr45.38Ti9.62Cu8.75Ni10Be26.25   5        Zr Ti Cu Ni Be   \n",
       "1                          AlCoCu   3              Al Co Cu   \n",
       "2            Al20Li20Mg10Sc20Ti30   5        Al Li Mg Sc Ti   \n",
       "3                  CoCrCuFeZr0.8    5        Co Cr Cu Fe Zr   \n",
       "4           Al0.5CoCrCuFeNiTi1.4    7  Al Co Cr Cu Fe Ni Ti   \n",
       "\n",
       "                   Fraction         a     delta           Tm        D_Tm  \\\n",
       "0  45.38 9.62 8.75 10 26.25  1.400611  0.146608  1853.515475  283.938040   \n",
       "1                     7 1 2  1.383100  0.054241  1101.783000  278.066294   \n",
       "2            20 20 10 20 30  1.517100  0.051625  1314.832000  600.177793   \n",
       "3               1 1 1 1 0.8  1.312792  0.099336  1837.327083  295.977082   \n",
       "4         0.5 1 1 1 1 1 1.4  1.308377  0.069377  1743.319565  324.684788   \n",
       "\n",
       "        Hmix      ?Hmix       Sid  Elec_nega  D_elec_nega       VEC     d_VEC  \\\n",
       "0 -37.996770  12.967122  1.378296   1.521077     0.211945  4.687500  2.909440   \n",
       "1  -5.400000   4.272798  0.801819   1.695000     0.129942  5.200000  3.400000   \n",
       "2  -0.400000  14.116742  1.557113   1.383000     0.225435  2.800000  1.077033   \n",
       "3  -9.687500  10.484101  1.605807   1.736250     0.201097  7.750000  2.349645   \n",
       "4 -14.022264   9.492334  1.913480   1.759565     0.147643  7.405797  2.704365   \n",
       "\n",
       "    BulkModulus     D_Bulk Phase_inshort  \n",
       "0  1.070000e+11  36.898355            AM  \n",
       "1  9.920000e+10  36.912870            IM  \n",
       "2  6.630000e+10  35.581034            SS  \n",
       "3  1.470000e+11  36.733420         AM+IM  \n",
       "4  1.480000e+11  32.645454         IM+SS  "
      ]
     },
     "execution_count": 3,
     "metadata": {},
     "output_type": "execute_result"
    }
   ],
   "source": [
    "dataset = pd.read_csv(r'AM_IM_SS_Multi.csv')\n",
    "dataset.head()"
   ]
  },
  {
   "cell_type": "code",
   "execution_count": 4,
   "metadata": {},
   "outputs": [],
   "source": [
    "cv = KFold(n_splits=10, random_state=1, shuffle=True)"
   ]
  },
  {
   "cell_type": "code",
   "execution_count": 5,
   "metadata": {},
   "outputs": [],
   "source": [
    "X = dataset.iloc[:,4:17].values\n",
    "y = dataset.iloc[:,17].values"
   ]
  },
  {
   "cell_type": "code",
   "execution_count": 6,
   "metadata": {},
   "outputs": [
    {
     "data": {
      "text/plain": [
       "array([[1, 0, 0, 0, 0],\n",
       "       [0, 0, 1, 0, 0],\n",
       "       [0, 0, 0, 0, 1],\n",
       "       ...,\n",
       "       [1, 0, 0, 0, 0],\n",
       "       [0, 0, 1, 0, 0],\n",
       "       [0, 0, 0, 1, 0]])"
      ]
     },
     "execution_count": 6,
     "metadata": {},
     "output_type": "execute_result"
    }
   ],
   "source": [
    "y_bin = label_binarize(y, classes=['AM', 'AM+IM', 'IM', 'IM+SS', 'SS'])\n",
    "n_classes = y_bin.shape[1]\n",
    "\n",
    "y_bin"
   ]
  },
  {
   "cell_type": "code",
   "execution_count": 7,
   "metadata": {},
   "outputs": [],
   "source": [
    "scaler = StandardScaler()\n",
    "X = scaler.fit_transform(X)"
   ]
  },
  {
   "cell_type": "code",
   "execution_count": 8,
   "metadata": {},
   "outputs": [],
   "source": [
    "model = OneVsRestClassifier(RandomForestClassifier(n_estimators =25, max_features=5, max_depth = 128, criterion = 'entropy', random_state = 42))"
   ]
  },
  {
   "cell_type": "code",
   "execution_count": 9,
   "metadata": {},
   "outputs": [
    {
     "name": "stdout",
     "output_type": "stream",
     "text": [
      "Accuracy: 0.880 (0.047)\n"
     ]
    }
   ],
   "source": [
    "scores = cross_val_score(model, X, y, scoring='accuracy', cv=cv, n_jobs=-1)\n",
    "print('Accuracy: %.3f (%.3f)' % (mean(scores), std(scores)))\n"
   ]
  },
  {
   "cell_type": "code",
   "execution_count": 10,
   "metadata": {},
   "outputs": [],
   "source": [
    "y_pred = cross_val_predict(model, X, y, cv=cv)\n",
    "y_score = cross_val_predict(model, X, y, cv=cv, method='predict_proba') "
   ]
  },
  {
   "cell_type": "code",
   "execution_count": 11,
   "metadata": {},
   "outputs": [
    {
     "data": {
      "text/plain": [
       "array([[150,   0,  11,   1,   3],\n",
       "       [  1,   1,   1,   3,   0],\n",
       "       [  7,   0, 234,   3,   4],\n",
       "       [  1,   1,   0,  29,  20],\n",
       "       [  1,   1,   4,  10, 115]], dtype=int64)"
      ]
     },
     "execution_count": 11,
     "metadata": {},
     "output_type": "execute_result"
    }
   ],
   "source": [
    "confusion_matrix(y, y_pred)"
   ]
  },
  {
   "cell_type": "code",
   "execution_count": 12,
   "metadata": {},
   "outputs": [
    {
     "data": {
      "text/plain": [
       "array([[1, 0, 0, 0, 0],\n",
       "       [0, 0, 1, 0, 0],\n",
       "       [0, 0, 0, 0, 1],\n",
       "       ...,\n",
       "       [1, 0, 0, 0, 0],\n",
       "       [0, 0, 1, 0, 0],\n",
       "       [0, 0, 0, 1, 0]])"
      ]
     },
     "execution_count": 12,
     "metadata": {},
     "output_type": "execute_result"
    }
   ],
   "source": [
    "fpr = dict()\n",
    "tpr = dict()\n",
    "roc_auc = dict()\n",
    "for i in range(n_classes):\n",
    "    fpr[i], tpr[i], _ = roc_curve(y_bin[:, i], y_score[:, i])\n",
    "    roc_auc[i] = auc(fpr[i], tpr[i])\n",
    "lw = 2\n",
    "\n",
    "y_bin"
   ]
  },
  {
   "cell_type": "code",
   "execution_count": 13,
   "metadata": {},
   "outputs": [],
   "source": [
    "from sklearn.metrics import precision_recall_curve\n",
    "from sklearn.metrics import average_precision_score"
   ]
  },
  {
   "cell_type": "code",
   "execution_count": 14,
   "metadata": {},
   "outputs": [
    {
     "name": "stdout",
     "output_type": "stream",
     "text": [
      "Average precision score, micro-averaged over all classes: 0.93\n"
     ]
    }
   ],
   "source": [
    "# For each class\n",
    "\n",
    "precision = dict()\n",
    "recall = dict()\n",
    "average_precision = dict()\n",
    "\n",
    "for i in range(n_classes):\n",
    "    precision[i], recall[i], _ = precision_recall_curve(y_bin[:, i], y_score[:, i])\n",
    "    average_precision[i] = average_precision_score(y_bin[:, i], y_score[:, i])\n",
    "    \n",
    "\n",
    "# A \"micro-average\": quantifying score on all classes jointly\n",
    "precision[\"micro\"], recall[\"micro\"], _ = precision_recall_curve(y_bin.ravel(), y_score.ravel())\n",
    "average_precision[\"micro\"] = average_precision_score(y_bin, y_score, average=\"micro\")\n",
    "print('Average precision score, micro-averaged over all classes: {0:0.2f}'.format(average_precision[\"micro\"]))"
   ]
  },
  {
   "cell_type": "code",
   "execution_count": 15,
   "metadata": {},
   "outputs": [
    {
     "data": {
      "text/plain": [
       "<matplotlib.legend.Legend at 0x1b6803f8888>"
      ]
     },
     "execution_count": 15,
     "metadata": {},
     "output_type": "execute_result"
    },
    {
     "data": {
      "image/png": "[encoded data removed]",
      "text/plain": [
       "<Figure size 432x288 with 1 Axes>"
      ]
     },
     "metadata": {
      "needs_background": "light"
     },
     "output_type": "display_data"
    }
   ],
   "source": [
    "from itertools import cycle\n",
    "from matplotlib.pyplot import figure\n",
    "plt.rcParams[\"font.family\"] = \"Times New Roman\"\n",
    "plt.rcParams[\"font.size\"] = '16'\n",
    "\n",
    "colors=cycle(['navy', 'turquoise', 'darkorange', 'cornflowerblue', 'teal'])\n",
    "lines=[]\n",
    "labels=[]\n",
    "phases = ['AM', 'AM+IM', 'IM', 'IM+SS', 'SS']\n",
    "\n",
    "for i, color in zip(range(n_classes), colors):\n",
    "    l, = plt.plot(recall[i], precision[i], color=color, lw=2)\n",
    "    lines.append(l)\n",
    "    labels.append('Precision-recall for class {0} (area = {1:0.2f})'\n",
    "                 ''.format(phases[i], average_precision[i]))\n",
    "    \n",
    "fig=plt.gcf()\n",
    "fig.subplots_adjust(bottom=0.25)\n",
    "plt.xlim([0.0, 1.0])\n",
    "plt.ylim([0.0, 1.05])\n",
    "plt.xlabel('Recall')\n",
    "plt.ylabel('Precision')\n",
    "plt.title('Precision-Recall curve (Random Forest)')\n",
    "plt.legend(lines, labels, loc=(0.08, -.8), prop=dict(size=12))"
   ]
  },
  {
   "cell_type": "code",
   "execution_count": null,
   "metadata": {},
   "outputs": [],
   "source": []
  },
  {
   "cell_type": "code",
   "execution_count": null,
   "metadata": {},
   "outputs": [],
   "source": []
  }
 ],
 "metadata": {
  "kernelspec": {
   "display_name": "Python 3",
   "language": "python",
   "name": "python3"
  },
  "language_info": {
   "codemirror_mode": {
    "name": "ipython",
    "version": 3
   },
   "file_extension": ".py",
   "mimetype": "text/x-python",
   "name": "python",
   "nbconvert_exporter": "python",
   "pygments_lexer": "ipython3",
   "version": "3.8.5"
  }
 },
 "nbformat": 4,
 "nbformat_minor": 4
}
