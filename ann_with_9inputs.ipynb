{
 "cells": [
  {
   "cell_type": "code",
   "execution_count": 1,
   "id": "3c479789",
   "metadata": {},
   "outputs": [
    {
     "name": "stderr",
     "output_type": "stream",
     "text": [
      "Using TensorFlow backend.\n"
     ]
    }
   ],
   "source": [
    "import tensorflow as tf\n",
    "import pandas as pd\n",
    "from sklearn.model_selection import train_test_split\n",
    "import matplotlib.pyplot as plt\n",
    "import seaborn as sns\n",
    "from tensorflow.keras.models import Sequential\n",
    "from tensorflow.keras.layers import Dense,Dropout,Activation, Flatten, Conv2D, MaxPooling2D\n",
    "from keras.wrappers.scikit_learn import KerasClassifier\n",
    "from sklearn.model_selection import cross_val_score\n",
    "# Supress unnecessary warnings so that presentation looks clean\n",
    "import warnings\n",
    "warnings.filterwarnings(\"ignore\")"
   ]
  },
  {
   "cell_type": "code",
   "execution_count": 2,
   "id": "0c110d70",
   "metadata": {},
   "outputs": [
    {
     "data": {
      "text/html": [
       "<div>\n",
       "<style scoped>\n",
       "    .dataframe tbody tr th:only-of-type {\n",
       "        vertical-align: middle;\n",
       "    }\n",
       "\n",
       "    .dataframe tbody tr th {\n",
       "        vertical-align: top;\n",
       "    }\n",
       "\n",
       "    .dataframe thead th {\n",
       "        text-align: right;\n",
       "    }\n",
       "</style>\n",
       "<table border=\"1\" class=\"dataframe\">\n",
       "  <thead>\n",
       "    <tr style=\"text-align: right;\">\n",
       "      <th></th>\n",
       "      <th>Alloy</th>\n",
       "      <th>No</th>\n",
       "      <th>Component</th>\n",
       "      <th>Fraction</th>\n",
       "      <th>a</th>\n",
       "      <th>delta</th>\n",
       "      <th>Elec_nega</th>\n",
       "      <th>D_elec_nega</th>\n",
       "      <th>VEC</th>\n",
       "      <th>d_VEC</th>\n",
       "      <th>BulkModulus</th>\n",
       "      <th>D_Bulk</th>\n",
       "      <th>omega</th>\n",
       "      <th>Phase_inshort</th>\n",
       "    </tr>\n",
       "  </thead>\n",
       "  <tbody>\n",
       "    <tr>\n",
       "      <th>0</th>\n",
       "      <td>Pd82Si18</td>\n",
       "      <td>2</td>\n",
       "      <td>Pd Si</td>\n",
       "      <td>82 18</td>\n",
       "      <td>1.335040</td>\n",
       "      <td>0.063885</td>\n",
       "      <td>2.146000</td>\n",
       "      <td>0.115256</td>\n",
       "      <td>8.920000</td>\n",
       "      <td>2.305125</td>\n",
       "      <td>1.660000e+11</td>\n",
       "      <td>30.734996</td>\n",
       "      <td>26.169089</td>\n",
       "      <td>AM</td>\n",
       "    </tr>\n",
       "    <tr>\n",
       "      <th>1</th>\n",
       "      <td>CuNi2FeCrAl1.5</td>\n",
       "      <td>5</td>\n",
       "      <td>Cu Ni Fe Cr Al</td>\n",
       "      <td>1 2 1 1 1.5</td>\n",
       "      <td>1.293538</td>\n",
       "      <td>0.059313</td>\n",
       "      <td>1.788462</td>\n",
       "      <td>0.128891</td>\n",
       "      <td>7.615385</td>\n",
       "      <td>2.975243</td>\n",
       "      <td>1.450000e+11</td>\n",
       "      <td>40.127017</td>\n",
       "      <td>305.315507</td>\n",
       "      <td>SS</td>\n",
       "    </tr>\n",
       "    <tr>\n",
       "      <th>2</th>\n",
       "      <td>AlMo0.5NbTa0.5TiZr</td>\n",
       "      <td>6</td>\n",
       "      <td>Al Mo Nb Ta Ti Zr</td>\n",
       "      <td>1 0.5 1 0.5 1 1</td>\n",
       "      <td>1.464500</td>\n",
       "      <td>0.050410</td>\n",
       "      <td>1.582000</td>\n",
       "      <td>0.217614</td>\n",
       "      <td>4.300000</td>\n",
       "      <td>0.900000</td>\n",
       "      <td>1.280000e+11</td>\n",
       "      <td>56.308713</td>\n",
       "      <td>225.161663</td>\n",
       "      <td>IM+SS</td>\n",
       "    </tr>\n",
       "    <tr>\n",
       "      <th>3</th>\n",
       "      <td>AlEr2</td>\n",
       "      <td>2</td>\n",
       "      <td>Al Er</td>\n",
       "      <td>1 2</td>\n",
       "      <td>1.648000</td>\n",
       "      <td>0.092679</td>\n",
       "      <td>1.363333</td>\n",
       "      <td>0.174420</td>\n",
       "      <td>3.000000</td>\n",
       "      <td>0.000000</td>\n",
       "      <td>5.466667e+10</td>\n",
       "      <td>15.084945</td>\n",
       "      <td>28.099609</td>\n",
       "      <td>IM</td>\n",
       "    </tr>\n",
       "    <tr>\n",
       "      <th>4</th>\n",
       "      <td>Ce65Al10Ni10Cu10Nb5</td>\n",
       "      <td>5</td>\n",
       "      <td>Ce Al Ni Cu Nb</td>\n",
       "      <td>65 10 10 10 5</td>\n",
       "      <td>1.653300</td>\n",
       "      <td>0.144722</td>\n",
       "      <td>1.350000</td>\n",
       "      <td>0.325392</td>\n",
       "      <td>4.600000</td>\n",
       "      <td>2.989983</td>\n",
       "      <td>6.240000e+10</td>\n",
       "      <td>60.360915</td>\n",
       "      <td>69.715430</td>\n",
       "      <td>AM</td>\n",
       "    </tr>\n",
       "  </tbody>\n",
       "</table>\n",
       "</div>"
      ],
      "text/plain": [
       "                 Alloy  No          Component          Fraction         a  \\\n",
       "0             Pd82Si18   2              Pd Si             82 18  1.335040   \n",
       "1       CuNi2FeCrAl1.5   5     Cu Ni Fe Cr Al       1 2 1 1 1.5  1.293538   \n",
       "2  AlMo0.5NbTa0.5TiZr    6  Al Mo Nb Ta Ti Zr  1 0.5 1 0.5 1 1   1.464500   \n",
       "3                AlEr2   2              Al Er               1 2  1.648000   \n",
       "4  Ce65Al10Ni10Cu10Nb5   5     Ce Al Ni Cu Nb     65 10 10 10 5  1.653300   \n",
       "\n",
       "      delta  Elec_nega  D_elec_nega       VEC     d_VEC   BulkModulus  \\\n",
       "0  0.063885   2.146000     0.115256  8.920000  2.305125  1.660000e+11   \n",
       "1  0.059313   1.788462     0.128891  7.615385  2.975243  1.450000e+11   \n",
       "2  0.050410   1.582000     0.217614  4.300000  0.900000  1.280000e+11   \n",
       "3  0.092679   1.363333     0.174420  3.000000  0.000000  5.466667e+10   \n",
       "4  0.144722   1.350000     0.325392  4.600000  2.989983  6.240000e+10   \n",
       "\n",
       "      D_Bulk       omega Phase_inshort  \n",
       "0  30.734996   26.169089            AM  \n",
       "1  40.127017  305.315507            SS  \n",
       "2  56.308713  225.161663         IM+SS  \n",
       "3  15.084945   28.099609            IM  \n",
       "4  60.360915   69.715430            AM  "
      ]
     },
     "execution_count": 2,
     "metadata": {},
     "output_type": "execute_result"
    }
   ],
   "source": [
    "dataset = pd.read_csv(r'E:\\yjn6gtwcdb-1\\yjn6gtwcdb-1\\HEA Phase Prediction_Datasets and Code\\AM_IM_SS_9 features.csv')\n",
    "dataset.head()"
   ]
  },
  {
   "cell_type": "code",
   "execution_count": 4,
   "id": "f3b483f8",
   "metadata": {},
   "outputs": [
    {
     "data": {
      "text/plain": [
       "<AxesSubplot:xlabel='Phase_inshort', ylabel='count'>"
      ]
     },
     "execution_count": 4,
     "metadata": {},
     "output_type": "execute_result"
    },
    {
     "data": {
      "image/png": "[encoded data removed]",
      "text/plain": [
       "<Figure size 432x288 with 1 Axes>"
      ]
     },
     "metadata": {
      "needs_background": "light"
     },
     "output_type": "display_data"
    }
   ],
   "source": [
    "sns.countplot(dataset['Phase_inshort'],label=\"Count\")"
   ]
  },
  {
   "cell_type": "code",
   "execution_count": 5,
   "id": "0c9400fd",
   "metadata": {},
   "outputs": [],
   "source": [
    "X = dataset.iloc[:,4:13].values\n",
    "y = dataset.iloc[:,13].values"
   ]
  },
  {
   "cell_type": "code",
   "execution_count": 6,
   "id": "a0488c2f",
   "metadata": {},
   "outputs": [],
   "source": [
    "from sklearn.preprocessing import MinMaxScaler\n",
    "scaler = MinMaxScaler(feature_range=(0, 1))\n",
    "X = scaler.fit_transform(X)\n",
    "X = pd.DataFrame(X)"
   ]
  },
  {
   "cell_type": "code",
   "execution_count": 7,
   "id": "51f9c2b8",
   "metadata": {},
   "outputs": [
    {
     "name": "stdout",
     "output_type": "stream",
     "text": [
      "AM       165\n",
      "AM+IM      6\n",
      "IM       248\n",
      "IM+SS     51\n",
      "SS       131\n",
      "dtype: int64\n"
     ]
    }
   ],
   "source": [
    "print(dataset.groupby(y).size())"
   ]
  },
  {
   "cell_type": "code",
   "execution_count": 8,
   "id": "4e1ae01f",
   "metadata": {},
   "outputs": [],
   "source": [
    "X = X.values"
   ]
  },
  {
   "cell_type": "code",
   "execution_count": 9,
   "id": "355dd5c5",
   "metadata": {},
   "outputs": [],
   "source": [
    "def baseline_model():\n",
    "    # Create model here\n",
    "    model = Sequential()\n",
    "    model.add(Dense(9, input_dim = 9, activation = 'relu')) # Rectified Linear Unit Activation Function\n",
    "    model.add(Dense(18, activation = 'relu'))\n",
    "    model.add(Dense(18, activation = 'relu'))\n",
    "    model.add(Dense(18, activation = 'relu'))\n",
    "    model.add(Dense(18, activation = 'relu'))\n",
    "    model.add(Dense(5, activation = 'softmax')) # Softmax for multi-class classification\n",
    "    # Compile model here\n",
    "    model.compile(loss = 'categorical_crossentropy', optimizer = 'adam', metrics = ['accuracy'])\n",
    "    return model"
   ]
  },
  {
   "cell_type": "code",
   "execution_count": 10,
   "id": "245c313f",
   "metadata": {},
   "outputs": [],
   "source": [
    "estimator = KerasClassifier(build_fn = baseline_model, epochs = 100, batch_size = 10, verbose = 0)"
   ]
  },
  {
   "cell_type": "code",
   "execution_count": 11,
   "id": "e8027a1b",
   "metadata": {},
   "outputs": [
    {
     "name": "stdout",
     "output_type": "stream",
     "text": [
      "('You must install pydot (`pip install pydot`) and install graphviz (see instructions at https://graphviz.gitlab.io/download/) ', 'for plot_model/model_to_dot to work.')\n"
     ]
    }
   ],
   "source": [
    "from tensorflow.keras.utils import plot_model\n",
    "plot_model(baseline_model, to_file='model.png')"
   ]
  },
  {
   "cell_type": "code",
   "execution_count": 12,
   "id": "68a6713d",
   "metadata": {},
   "outputs": [],
   "source": [
    "from sklearn.model_selection import KFold\n",
    "kfold = KFold(n_splits = 10, shuffle = True, random_state = 1)"
   ]
  },
  {
   "cell_type": "code",
   "execution_count": 13,
   "id": "fc8e0d4d",
   "metadata": {},
   "outputs": [
    {
     "name": "stdout",
     "output_type": "stream",
     "text": [
      "Result: 77.56% (6.59%)\n"
     ]
    }
   ],
   "source": [
    "results = cross_val_score(estimator, X, y, cv = kfold)\n",
    "# Result\n",
    "\n",
    "print(\"Result: %.2f%% (%.2f%%)\" % (results.mean()*100, results.std()*100))\n"
   ]
  },
  {
   "cell_type": "code",
   "execution_count": 14,
   "id": "e886e828",
   "metadata": {},
   "outputs": [],
   "source": [
    "from sklearn.model_selection import cross_val_predict\n",
    "y_pred = cross_val_predict(estimator, X, y, cv = kfold)"
   ]
  },
  {
   "cell_type": "code",
   "execution_count": 15,
   "id": "532008e8",
   "metadata": {},
   "outputs": [
    {
     "data": {
      "text/plain": [
       "array(['AM', 'SS', 'IM+SS', 'IM', 'AM', 'IM', 'IM', 'SS', 'IM', 'AM',\n",
       "       'AM', 'SS', 'AM', 'IM', 'IM+SS', 'IM', 'SS', 'SS', 'IM', 'AM',\n",
       "       'SS', 'AM', 'AM', 'SS', 'AM', 'IM', 'IM+SS', 'IM', 'IM', 'IM+SS',\n",
       "       'AM', 'IM+SS', 'IM', 'SS', 'AM', 'AM', 'IM', 'AM', 'SS', 'IM',\n",
       "       'AM', 'IM', 'IM', 'IM+SS', 'AM', 'IM', 'IM+SS', 'IM', 'IM', 'AM',\n",
       "       'IM', 'IM', 'IM', 'AM', 'AM', 'SS', 'IM', 'IM+SS', 'IM', 'IM',\n",
       "       'AM', 'AM+IM', 'IM', 'IM+SS', 'IM', 'SS', 'AM', 'IM+SS', 'AM',\n",
       "       'SS', 'SS', 'AM', 'SS', 'IM', 'IM', 'IM', 'AM', 'IM', 'IM', 'AM',\n",
       "       'AM', 'AM', 'IM', 'SS', 'SS', 'AM', 'IM', 'IM', 'IM', 'AM', 'AM',\n",
       "       'IM', 'SS', 'IM', 'IM', 'SS', 'SS', 'AM', 'SS', 'IM', 'AM', 'SS',\n",
       "       'AM', 'IM', 'IM', 'SS', 'SS', 'SS', 'IM', 'IM', 'AM', 'IM', 'IM',\n",
       "       'AM', 'SS', 'AM', 'IM', 'IM', 'IM+SS', 'IM', 'IM', 'IM', 'AM',\n",
       "       'AM', 'IM', 'IM', 'IM', 'IM', 'SS', 'AM', 'AM', 'IM', 'IM', 'AM',\n",
       "       'IM', 'SS', 'IM', 'IM', 'AM', 'AM', 'AM', 'IM', 'AM+IM', 'IM+SS',\n",
       "       'AM', 'IM', 'IM', 'SS', 'IM', 'AM+IM', 'IM', 'IM', 'SS', 'AM',\n",
       "       'AM', 'SS', 'IM', 'AM', 'SS', 'IM', 'AM', 'IM+SS', 'IM+SS', 'AM',\n",
       "       'AM', 'AM', 'SS', 'SS', 'AM', 'AM', 'AM', 'SS', 'IM', 'SS', 'SS',\n",
       "       'AM', 'AM', 'IM', 'AM', 'IM+SS', 'AM', 'IM', 'SS', 'SS', 'IM',\n",
       "       'IM', 'AM', 'AM', 'IM+SS', 'AM', 'IM', 'AM', 'IM', 'SS', 'IM',\n",
       "       'IM', 'AM', 'AM', 'IM+SS', 'IM+SS', 'IM', 'IM', 'SS', 'IM+SS',\n",
       "       'IM', 'IM+SS', 'IM', 'IM+SS', 'AM', 'AM', 'SS', 'AM', 'SS', 'IM',\n",
       "       'AM', 'SS', 'AM+IM', 'SS', 'AM', 'IM+SS', 'SS', 'SS', 'AM', 'IM',\n",
       "       'IM', 'SS', 'AM', 'AM', 'IM+SS', 'IM+SS', 'SS', 'SS', 'IM', 'AM',\n",
       "       'SS', 'IM', 'AM', 'AM', 'AM', 'IM', 'AM', 'IM', 'IM', 'SS', 'IM',\n",
       "       'IM', 'AM', 'IM', 'SS', 'AM', 'IM', 'AM', 'AM', 'AM', 'IM', 'SS',\n",
       "       'IM', 'SS', 'IM', 'SS', 'IM', 'IM', 'IM', 'SS', 'IM', 'IM+SS',\n",
       "       'SS', 'SS', 'AM', 'AM', 'SS', 'IM', 'IM', 'SS', 'SS', 'SS',\n",
       "       'IM+SS', 'AM', 'IM', 'AM', 'AM', 'IM', 'IM', 'IM', 'SS', 'IM',\n",
       "       'AM', 'SS', 'IM', 'IM', 'AM', 'AM', 'SS', 'IM', 'IM+SS', 'SS',\n",
       "       'IM', 'IM', 'IM', 'SS', 'SS', 'IM', 'AM', 'SS', 'IM+SS', 'AM',\n",
       "       'AM', 'IM', 'IM', 'IM', 'IM', 'SS', 'IM', 'AM', 'IM', 'IM+SS',\n",
       "       'IM', 'IM', 'IM', 'IM', 'AM', 'SS', 'SS', 'AM', 'IM', 'IM', 'SS',\n",
       "       'IM', 'AM', 'IM', 'AM', 'IM', 'IM', 'SS', 'IM', 'IM+SS', 'IM',\n",
       "       'IM', 'IM', 'AM', 'IM', 'IM', 'IM', 'AM', 'IM', 'IM', 'AM', 'AM',\n",
       "       'AM', 'IM', 'SS', 'IM', 'IM', 'AM', 'SS', 'AM', 'SS', 'AM', 'SS',\n",
       "       'IM', 'IM', 'IM', 'SS', 'AM', 'SS', 'SS', 'AM', 'SS', 'AM', 'IM',\n",
       "       'IM+SS', 'SS', 'IM', 'SS', 'IM', 'SS', 'IM', 'SS', 'IM', 'AM',\n",
       "       'IM', 'AM', 'SS', 'SS', 'IM', 'SS', 'AM', 'AM', 'IM', 'SS', 'AM',\n",
       "       'AM', 'SS', 'IM', 'AM', 'IM', 'IM', 'SS', 'IM', 'IM', 'IM', 'IM',\n",
       "       'IM+SS', 'SS', 'IM', 'IM', 'IM', 'IM', 'AM', 'IM', 'IM+SS', 'AM',\n",
       "       'IM', 'IM+SS', 'AM', 'SS', 'IM', 'AM', 'IM', 'IM', 'IM', 'IM',\n",
       "       'IM', 'IM+SS', 'IM', 'SS', 'AM', 'IM', 'IM', 'IM', 'IM', 'SS',\n",
       "       'AM', 'SS', 'AM', 'IM', 'IM', 'IM', 'AM', 'IM', 'AM', 'IM+SS',\n",
       "       'SS', 'IM', 'AM', 'AM', 'IM', 'AM', 'SS', 'IM', 'AM', 'AM', 'IM',\n",
       "       'IM+SS', 'SS', 'IM', 'AM', 'SS', 'AM', 'IM+SS', 'IM', 'IM', 'SS',\n",
       "       'IM', 'SS', 'IM', 'IM', 'IM', 'IM', 'IM', 'IM+SS', 'IM', 'IM',\n",
       "       'SS', 'SS', 'AM', 'IM', 'SS', 'AM+IM', 'AM', 'SS', 'IM', 'IM',\n",
       "       'AM', 'IM', 'IM', 'AM', 'AM', 'AM', 'AM', 'SS', 'IM', 'IM', 'IM',\n",
       "       'IM', 'AM', 'AM', 'IM+SS', 'IM', 'IM', 'SS', 'AM', 'IM', 'SS',\n",
       "       'IM', 'IM', 'IM', 'SS', 'AM', 'AM', 'IM+SS', 'AM', 'AM', 'IM+SS',\n",
       "       'AM', 'IM+SS', 'IM', 'IM', 'AM', 'IM', 'SS', 'SS', 'AM', 'IM',\n",
       "       'IM+SS', 'IM+SS', 'AM', 'IM', 'IM', 'IM', 'IM', 'IM+SS', 'IM',\n",
       "       'SS', 'SS', 'IM', 'IM', 'IM', 'AM', 'IM', 'AM', 'SS', 'AM', 'AM',\n",
       "       'AM', 'IM+SS', 'SS', 'AM', 'IM', 'SS', 'IM', 'IM', 'SS', 'IM',\n",
       "       'IM', 'IM', 'IM+SS', 'SS', 'SS', 'IM', 'AM', 'IM', 'AM', 'SS',\n",
       "       'SS', 'IM', 'AM', 'AM', 'SS', 'SS', 'IM', 'AM+IM', 'IM', 'AM',\n",
       "       'IM', 'IM', 'SS', 'IM', 'IM', 'IM', 'SS', 'AM', 'IM+SS', 'IM+SS',\n",
       "       'IM', 'SS', 'SS', 'AM', 'IM', 'IM+SS', 'AM', 'IM', 'SS', 'IM',\n",
       "       'IM', 'SS', 'IM', 'IM', 'IM', 'IM', 'AM'], dtype=object)"
      ]
     },
     "execution_count": 15,
     "metadata": {},
     "output_type": "execute_result"
    }
   ],
   "source": [
    "y"
   ]
  },
  {
   "cell_type": "code",
   "execution_count": 16,
   "id": "b1fc1cbf",
   "metadata": {},
   "outputs": [
    {
     "data": {
      "text/plain": [
       "array(['IM', 'SS', 'IM', 'IM', 'AM', 'IM', 'IM', 'SS', 'IM', 'AM', 'AM',\n",
       "       'SS', 'AM', 'IM', 'SS', 'IM', 'SS', 'SS', 'IM', 'AM', 'SS', 'AM',\n",
       "       'AM', 'SS', 'AM', 'SS', 'SS', 'IM', 'IM', 'IM+SS', 'AM', 'SS',\n",
       "       'IM', 'SS', 'AM', 'AM', 'IM', 'AM', 'SS', 'IM', 'AM', 'IM', 'AM',\n",
       "       'SS', 'AM', 'AM', 'SS', 'SS', 'IM', 'IM+SS', 'IM', 'AM', 'IM',\n",
       "       'AM', 'AM', 'SS', 'IM', 'IM+SS', 'SS', 'IM', 'AM', 'AM', 'IM',\n",
       "       'SS', 'IM+SS', 'SS', 'AM', 'IM+SS', 'AM', 'SS', 'SS', 'AM', 'SS',\n",
       "       'IM', 'IM', 'IM', 'AM', 'IM', 'IM', 'AM', 'AM', 'AM', 'IM', 'SS',\n",
       "       'IM+SS', 'AM', 'IM', 'IM', 'IM', 'IM', 'AM', 'IM', 'SS', 'IM',\n",
       "       'IM', 'SS', 'SS', 'AM', 'SS', 'AM', 'AM', 'SS', 'IM', 'IM', 'IM',\n",
       "       'SS', 'SS', 'SS', 'IM', 'IM', 'AM', 'IM', 'IM', 'AM', 'SS', 'AM',\n",
       "       'IM', 'IM', 'IM+SS', 'IM', 'IM+SS', 'SS', 'AM', 'AM', 'IM', 'IM',\n",
       "       'SS', 'IM', 'SS', 'SS', 'IM', 'IM', 'IM+SS', 'AM', 'IM', 'SS',\n",
       "       'IM', 'IM', 'AM', 'AM', 'AM', 'AM', 'IM+SS', 'IM+SS', 'AM', 'IM',\n",
       "       'IM', 'SS', 'IM', 'AM', 'IM', 'IM', 'IM', 'AM', 'IM', 'IM', 'IM',\n",
       "       'AM', 'SS', 'IM', 'AM', 'IM+SS', 'IM+SS', 'AM', 'AM', 'AM', 'IM',\n",
       "       'SS', 'AM', 'AM', 'AM', 'SS', 'SS', 'SS', 'SS', 'AM', 'AM', 'IM',\n",
       "       'AM', 'IM+SS', 'AM', 'IM', 'IM', 'SS', 'IM', 'AM', 'AM', 'AM',\n",
       "       'IM+SS', 'AM', 'IM', 'AM', 'IM', 'SS', 'IM', 'IM', 'AM', 'AM',\n",
       "       'IM+SS', 'SS', 'SS', 'SS', 'SS', 'SS', 'IM', 'IM', 'SS', 'SS',\n",
       "       'AM', 'AM', 'IM', 'AM', 'IM+SS', 'IM', 'SS', 'SS', 'AM', 'SS',\n",
       "       'IM', 'SS', 'SS', 'SS', 'AM', 'IM', 'AM', 'SS', 'AM', 'AM',\n",
       "       'IM+SS', 'SS', 'SS', 'AM', 'IM', 'AM', 'SS', 'IM', 'AM', 'AM',\n",
       "       'AM', 'IM', 'AM', 'AM', 'IM', 'SS', 'IM', 'IM', 'IM', 'IM', 'SS',\n",
       "       'AM', 'IM', 'AM', 'AM', 'AM', 'IM', 'SS', 'IM', 'SS', 'AM', 'SS',\n",
       "       'IM', 'IM', 'IM', 'SS', 'IM', 'IM+SS', 'SS', 'SS', 'AM', 'IM',\n",
       "       'SS', 'IM', 'IM', 'SS', 'SS', 'SS', 'SS', 'AM', 'IM', 'AM', 'AM',\n",
       "       'IM', 'IM', 'IM', 'SS', 'IM', 'AM', 'IM', 'AM', 'IM', 'AM', 'AM',\n",
       "       'SS', 'SS', 'IM+SS', 'SS', 'IM', 'IM', 'IM', 'SS', 'IM+SS', 'IM',\n",
       "       'AM', 'SS', 'SS', 'AM', 'AM', 'IM', 'IM', 'IM', 'IM', 'IM+SS',\n",
       "       'AM', 'AM', 'IM', 'SS', 'IM', 'IM', 'SS', 'SS', 'IM', 'SS', 'SS',\n",
       "       'AM', 'IM', 'IM', 'SS', 'IM', 'AM', 'IM', 'AM', 'SS', 'AM', 'SS',\n",
       "       'IM', 'SS', 'IM', 'IM', 'IM', 'AM', 'IM', 'IM', 'IM', 'AM', 'IM',\n",
       "       'SS', 'AM', 'AM', 'AM', 'IM', 'SS', 'SS', 'IM', 'AM', 'SS', 'AM',\n",
       "       'SS', 'AM', 'SS', 'AM', 'IM', 'IM', 'SS', 'AM', 'SS', 'SS', 'AM',\n",
       "       'SS', 'AM', 'IM', 'SS', 'SS', 'AM', 'SS', 'IM+SS', 'SS', 'IM',\n",
       "       'AM', 'IM', 'AM', 'IM', 'AM', 'AM', 'SS', 'IM', 'SS', 'AM', 'AM',\n",
       "       'IM', 'SS', 'AM', 'AM', 'SS', 'AM', 'AM', 'IM', 'IM', 'IM+SS',\n",
       "       'IM', 'IM', 'IM', 'IM', 'SS', 'SS', 'IM', 'IM', 'IM', 'IM', 'AM',\n",
       "       'IM', 'IM+SS', 'IM', 'IM', 'SS', 'AM', 'SS', 'IM', 'AM', 'AM',\n",
       "       'AM', 'IM', 'IM', 'IM', 'IM+SS', 'IM', 'SS', 'IM', 'SS', 'IM',\n",
       "       'AM', 'IM', 'IM', 'AM', 'SS', 'AM', 'IM', 'IM', 'IM', 'AM', 'IM',\n",
       "       'AM', 'IM+SS', 'SS', 'IM', 'AM', 'AM', 'IM', 'AM', 'SS', 'SS',\n",
       "       'AM', 'AM', 'IM', 'SS', 'SS', 'SS', 'AM', 'SS', 'IM', 'IM+SS',\n",
       "       'IM', 'IM', 'SS', 'IM', 'SS', 'IM', 'AM', 'IM', 'IM', 'IM', 'AM',\n",
       "       'IM', 'AM', 'SS', 'SS', 'AM', 'IM', 'SS', 'AM', 'AM', 'SS', 'IM',\n",
       "       'IM', 'AM', 'IM', 'IM', 'AM', 'IM+SS', 'AM', 'AM', 'SS', 'IM',\n",
       "       'IM', 'SS', 'IM', 'AM', 'IM', 'IM+SS', 'IM', 'IM', 'SS', 'AM',\n",
       "       'IM', 'SS', 'IM', 'IM+SS', 'IM', 'SS', 'AM', 'AM', 'SS', 'AM',\n",
       "       'AM', 'SS', 'AM', 'SS', 'IM', 'IM', 'AM', 'IM', 'SS', 'SS', 'AM',\n",
       "       'IM', 'SS', 'SS', 'AM', 'IM', 'IM', 'IM', 'IM', 'IM+SS', 'IM',\n",
       "       'SS', 'SS', 'SS', 'AM', 'IM', 'AM', 'AM', 'AM', 'SS', 'IM', 'AM',\n",
       "       'IM', 'IM+SS', 'SS', 'AM', 'SS', 'SS', 'IM', 'IM', 'SS', 'IM',\n",
       "       'IM', 'IM', 'SS', 'SS', 'SS', 'IM', 'AM', 'IM', 'IM', 'SS', 'SS',\n",
       "       'IM', 'AM', 'AM', 'SS', 'SS', 'IM', 'AM', 'IM', 'IM', 'IM', 'IM',\n",
       "       'IM', 'IM', 'IM', 'IM', 'IM+SS', 'SS', 'SS', 'SS', 'IM', 'SS',\n",
       "       'SS', 'AM', 'IM', 'SS', 'AM', 'IM', 'SS', 'IM', 'IM', 'IM', 'IM',\n",
       "       'IM', 'IM', 'AM', 'AM'], dtype=object)"
      ]
     },
     "execution_count": 16,
     "metadata": {},
     "output_type": "execute_result"
    }
   ],
   "source": [
    "y_pred"
   ]
  },
  {
   "cell_type": "code",
   "execution_count": 17,
   "id": "ba10ea93",
   "metadata": {},
   "outputs": [
    {
     "data": {
      "text/plain": [
       "array([[143,   0,  17,   2,   3],\n",
       "       [  5,   0,   0,   1,   0],\n",
       "       [ 23,   0, 199,   5,  21],\n",
       "       [  1,   0,   2,  20,  28],\n",
       "       [  3,   0,   9,   6, 113]], dtype=int64)"
      ]
     },
     "execution_count": 17,
     "metadata": {},
     "output_type": "execute_result"
    }
   ],
   "source": [
    "from sklearn.metrics import confusion_matrix\n",
    "confusion_matrix(y, y_pred)"
   ]
  },
  {
   "cell_type": "code",
   "execution_count": 17,
   "id": "b8d24b5f",
   "metadata": {},
   "outputs": [
    {
     "ename": "SyntaxError",
     "evalue": "invalid syntax (Temp/ipykernel_11040/1933637684.py, line 1)",
     "output_type": "error",
     "traceback": [
      "\u001b[1;36m  File \u001b[1;32m\"C:\\Users\\admin\\AppData\\Local\\Temp/ipykernel_11040/1933637684.py\"\u001b[1;36m, line \u001b[1;32m1\u001b[0m\n\u001b[1;33m    .\u001b[0m\n\u001b[1;37m    ^\u001b[0m\n\u001b[1;31mSyntaxError\u001b[0m\u001b[1;31m:\u001b[0m invalid syntax\n"
     ]
    }
   ],
   "source": [
    "."
   ]
  },
  {
   "cell_type": "code",
   "execution_count": null,
   "id": "164cb343",
   "metadata": {},
   "outputs": [],
   "source": []
  }
 ],
 "metadata": {
  "kernelspec": {
   "display_name": "Python 3 (ipykernel)",
   "language": "python",
   "name": "python3"
  },
  "language_info": {
   "codemirror_mode": {
    "name": "ipython",
    "version": 3
   },
   "file_extension": ".py",
   "mimetype": "text/x-python",
   "name": "python",
   "nbconvert_exporter": "python",
   "pygments_lexer": "ipython3",
   "version": "3.8.12"
  }
 },
 "nbformat": 4,
 "nbformat_minor": 5
}
