{
 "cells": [
  {
   "cell_type": "code",
   "execution_count": 1,
   "metadata": {
    "scrolled": true
   },
   "outputs": [
    {
     "name": "stderr",
     "output_type": "stream",
     "text": [
      "C:\\Users\\User\\anaconda3\\lib\\site-packages\\sklearn\\externals\\joblib\\__init__.py:15: FutureWarning: sklearn.externals.joblib is deprecated in 0.21 and will be removed in 0.23. Please import this functionality directly from joblib, which can be installed with: pip install joblib. If this warning is raised when loading pickled models, you may need to re-serialize those models with scikit-learn 0.21+.\n",
      "  warnings.warn(msg, category=FutureWarning)\n"
     ]
    }
   ],
   "source": [
    "import numpy as np\n",
    "from numpy import mean\n",
    "from numpy import std\n",
    "import pandas as pd \n",
    "from sklearn.model_selection import train_test_split\n",
    "from sklearn.preprocessing import StandardScaler\n",
    "from sklearn.ensemble import RandomForestClassifier\n",
    "from sklearn.metrics import confusion_matrix\n",
    "from sklearn.metrics import accuracy_score\n",
    "from sklearn.externals import joblib\n",
    "from sklearn.model_selection import KFold\n",
    "from sklearn.model_selection import cross_val_score\n",
    "from sklearn.metrics import confusion_matrix\n",
    "from sklearn.model_selection import cross_val_predict"
   ]
  },
  {
   "cell_type": "code",
   "execution_count": 2,
   "metadata": {},
   "outputs": [
    {
     "data": {
      "text/html": [
       "<div>\n",
       "<style scoped>\n",
       "    .dataframe tbody tr th:only-of-type {\n",
       "        vertical-align: middle;\n",
       "    }\n",
       "\n",
       "    .dataframe tbody tr th {\n",
       "        vertical-align: top;\n",
       "    }\n",
       "\n",
       "    .dataframe thead th {\n",
       "        text-align: right;\n",
       "    }\n",
       "</style>\n",
       "<table border=\"1\" class=\"dataframe\">\n",
       "  <thead>\n",
       "    <tr style=\"text-align: right;\">\n",
       "      <th></th>\n",
       "      <th>Alloy</th>\n",
       "      <th>No</th>\n",
       "      <th>Component</th>\n",
       "      <th>Fraction</th>\n",
       "      <th>a</th>\n",
       "      <th>delta</th>\n",
       "      <th>Tm</th>\n",
       "      <th>D_Tm</th>\n",
       "      <th>Hmix</th>\n",
       "      <th>?Hmix</th>\n",
       "      <th>Sid</th>\n",
       "      <th>Elec_nega</th>\n",
       "      <th>D_elec_nega</th>\n",
       "      <th>VEC</th>\n",
       "      <th>d_VEC</th>\n",
       "      <th>BulkModulus</th>\n",
       "      <th>D_Bulk</th>\n",
       "      <th>Phase_inshort</th>\n",
       "    </tr>\n",
       "  </thead>\n",
       "  <tbody>\n",
       "    <tr>\n",
       "      <th>0</th>\n",
       "      <td>Zr45.38Ti9.62Cu8.75Ni10Be26.25</td>\n",
       "      <td>5</td>\n",
       "      <td>Zr Ti Cu Ni Be</td>\n",
       "      <td>45.38 9.62 8.75 10 26.25</td>\n",
       "      <td>1.400611</td>\n",
       "      <td>0.146608</td>\n",
       "      <td>1853.515475</td>\n",
       "      <td>283.938040</td>\n",
       "      <td>-37.996770</td>\n",
       "      <td>12.967122</td>\n",
       "      <td>1.378296</td>\n",
       "      <td>1.521077</td>\n",
       "      <td>0.211945</td>\n",
       "      <td>4.687500</td>\n",
       "      <td>2.909440</td>\n",
       "      <td>1.070000e+11</td>\n",
       "      <td>36.898355</td>\n",
       "      <td>AM</td>\n",
       "    </tr>\n",
       "    <tr>\n",
       "      <th>1</th>\n",
       "      <td>AlCoCu</td>\n",
       "      <td>3</td>\n",
       "      <td>Al Co Cu</td>\n",
       "      <td>7 1 2</td>\n",
       "      <td>1.383100</td>\n",
       "      <td>0.054241</td>\n",
       "      <td>1101.783000</td>\n",
       "      <td>278.066294</td>\n",
       "      <td>-5.400000</td>\n",
       "      <td>4.272798</td>\n",
       "      <td>0.801819</td>\n",
       "      <td>1.695000</td>\n",
       "      <td>0.129942</td>\n",
       "      <td>5.200000</td>\n",
       "      <td>3.400000</td>\n",
       "      <td>9.920000e+10</td>\n",
       "      <td>36.912870</td>\n",
       "      <td>IM</td>\n",
       "    </tr>\n",
       "    <tr>\n",
       "      <th>2</th>\n",
       "      <td>Al20Li20Mg10Sc20Ti30</td>\n",
       "      <td>5</td>\n",
       "      <td>Al Li Mg Sc Ti</td>\n",
       "      <td>20 20 10 20 30</td>\n",
       "      <td>1.517100</td>\n",
       "      <td>0.051625</td>\n",
       "      <td>1314.832000</td>\n",
       "      <td>600.177793</td>\n",
       "      <td>-0.400000</td>\n",
       "      <td>14.116742</td>\n",
       "      <td>1.557113</td>\n",
       "      <td>1.383000</td>\n",
       "      <td>0.225435</td>\n",
       "      <td>2.800000</td>\n",
       "      <td>1.077033</td>\n",
       "      <td>6.630000e+10</td>\n",
       "      <td>35.581034</td>\n",
       "      <td>SS</td>\n",
       "    </tr>\n",
       "    <tr>\n",
       "      <th>3</th>\n",
       "      <td>CoCrCuFeZr0.8</td>\n",
       "      <td>5</td>\n",
       "      <td>Co Cr Cu Fe Zr</td>\n",
       "      <td>1 1 1 1 0.8</td>\n",
       "      <td>1.312792</td>\n",
       "      <td>0.099336</td>\n",
       "      <td>1837.327083</td>\n",
       "      <td>295.977082</td>\n",
       "      <td>-9.687500</td>\n",
       "      <td>10.484101</td>\n",
       "      <td>1.605807</td>\n",
       "      <td>1.736250</td>\n",
       "      <td>0.201097</td>\n",
       "      <td>7.750000</td>\n",
       "      <td>2.349645</td>\n",
       "      <td>1.470000e+11</td>\n",
       "      <td>36.733420</td>\n",
       "      <td>AM+IM</td>\n",
       "    </tr>\n",
       "    <tr>\n",
       "      <th>4</th>\n",
       "      <td>Al0.5CoCrCuFeNiTi1.4</td>\n",
       "      <td>7</td>\n",
       "      <td>Al Co Cr Cu Fe Ni Ti</td>\n",
       "      <td>0.5 1 1 1 1 1 1.4</td>\n",
       "      <td>1.308377</td>\n",
       "      <td>0.069377</td>\n",
       "      <td>1743.319565</td>\n",
       "      <td>324.684788</td>\n",
       "      <td>-14.022264</td>\n",
       "      <td>9.492334</td>\n",
       "      <td>1.913480</td>\n",
       "      <td>1.759565</td>\n",
       "      <td>0.147643</td>\n",
       "      <td>7.405797</td>\n",
       "      <td>2.704365</td>\n",
       "      <td>1.480000e+11</td>\n",
       "      <td>32.645454</td>\n",
       "      <td>IM+SS</td>\n",
       "    </tr>\n",
       "  </tbody>\n",
       "</table>\n",
       "</div>"
      ],
      "text/plain": [
       "                            Alloy  No             Component  \\\n",
       "0  Zr45.38Ti9.62Cu8.75Ni10Be26.25   5        Zr Ti Cu Ni Be   \n",
       "1                          AlCoCu   3              Al Co Cu   \n",
       "2            Al20Li20Mg10Sc20Ti30   5        Al Li Mg Sc Ti   \n",
       "3                  CoCrCuFeZr0.8    5        Co Cr Cu Fe Zr   \n",
       "4           Al0.5CoCrCuFeNiTi1.4    7  Al Co Cr Cu Fe Ni Ti   \n",
       "\n",
       "                   Fraction         a     delta           Tm        D_Tm  \\\n",
       "0  45.38 9.62 8.75 10 26.25  1.400611  0.146608  1853.515475  283.938040   \n",
       "1                     7 1 2  1.383100  0.054241  1101.783000  278.066294   \n",
       "2            20 20 10 20 30  1.517100  0.051625  1314.832000  600.177793   \n",
       "3               1 1 1 1 0.8  1.312792  0.099336  1837.327083  295.977082   \n",
       "4         0.5 1 1 1 1 1 1.4  1.308377  0.069377  1743.319565  324.684788   \n",
       "\n",
       "        Hmix      ?Hmix       Sid  Elec_nega  D_elec_nega       VEC     d_VEC  \\\n",
       "0 -37.996770  12.967122  1.378296   1.521077     0.211945  4.687500  2.909440   \n",
       "1  -5.400000   4.272798  0.801819   1.695000     0.129942  5.200000  3.400000   \n",
       "2  -0.400000  14.116742  1.557113   1.383000     0.225435  2.800000  1.077033   \n",
       "3  -9.687500  10.484101  1.605807   1.736250     0.201097  7.750000  2.349645   \n",
       "4 -14.022264   9.492334  1.913480   1.759565     0.147643  7.405797  2.704365   \n",
       "\n",
       "    BulkModulus     D_Bulk Phase_inshort  \n",
       "0  1.070000e+11  36.898355            AM  \n",
       "1  9.920000e+10  36.912870            IM  \n",
       "2  6.630000e+10  35.581034            SS  \n",
       "3  1.470000e+11  36.733420         AM+IM  \n",
       "4  1.480000e+11  32.645454         IM+SS  "
      ]
     },
     "execution_count": 2,
     "metadata": {},
     "output_type": "execute_result"
    }
   ],
   "source": [
    "dataset = pd.read_csv(r'AM_IM_SS_Multi.csv')\n",
    "dataset.head()"
   ]
  },
  {
   "cell_type": "code",
   "execution_count": 3,
   "metadata": {},
   "outputs": [],
   "source": [
    "cv = KFold(n_splits=10, random_state=1, shuffle=True)"
   ]
  },
  {
   "cell_type": "code",
   "execution_count": 4,
   "metadata": {},
   "outputs": [
    {
     "name": "stdout",
     "output_type": "stream",
     "text": [
      "0    0\n",
      "1    1\n",
      "2    2\n",
      "3    3\n",
      "4    4\n",
      "Name: Phase_inshort, dtype: int64\n",
      "Index(['AM', 'IM', 'SS', 'AM+IM', 'IM+SS'], dtype='object')\n"
     ]
    }
   ],
   "source": [
    "factor = pd.factorize(dataset['Phase_inshort'])\n",
    "dataset.Phase_inshort = factor[0]\n",
    "definitions = factor[1]\n",
    "print(dataset.Phase_inshort.head())\n",
    "print(definitions)\n"
   ]
  },
  {
   "cell_type": "code",
   "execution_count": 5,
   "metadata": {},
   "outputs": [],
   "source": [
    "X = dataset.iloc[:,4:17].values\n",
    "y = dataset.iloc[:,17].values\n"
   ]
  },
  {
   "cell_type": "code",
   "execution_count": 6,
   "metadata": {},
   "outputs": [],
   "source": [
    "scaler = StandardScaler()\n",
    "X = scaler.fit_transform(X)"
   ]
  },
  {
   "cell_type": "code",
   "execution_count": 9,
   "metadata": {},
   "outputs": [
    {
     "name": "stdout",
     "output_type": "stream",
     "text": [
      "[15:09:12] WARNING: C:/Users/Administrator/workspace/xgboost-win64_release_1.3.0/src/learner.cc:1061: Starting in XGBoost 1.3.0, the default evaluation metric used with the objective 'multi:softprob' was changed from 'merror' to 'mlogloss'. Explicitly set eval_metric if you'd like to restore the old behavior.\n"
     ]
    },
    {
     "data": {
      "text/plain": [
       "XGBClassifier(base_score=0.5, booster='gbtree', colsample_bylevel=1,\n",
       "              colsample_bynode=1, colsample_bytree=1, gamma=0, gpu_id=-1,\n",
       "              importance_type='gain', interaction_constraints='',\n",
       "              learning_rate=0.300000012, max_delta_step=0, max_depth=6,\n",
       "              min_child_weight=1, missing=nan, monotone_constraints='()',\n",
       "              n_estimators=100, n_jobs=4, num_parallel_tree=1,\n",
       "              objective='multi:softprob', random_state=0, reg_alpha=0,\n",
       "              reg_lambda=1, scale_pos_weight=None, subsample=1,\n",
       "              tree_method='exact', use_label_encoder=True,\n",
       "              validate_parameters=1, verbosity=None)"
      ]
     },
     "execution_count": 9,
     "metadata": {},
     "output_type": "execute_result"
    }
   ],
   "source": [
    "from xgboost import XGBClassifier\n",
    "model = XGBClassifier()\n",
    "\n",
    "model.fit(X, y)\n",
    "\n"
   ]
  },
  {
   "cell_type": "code",
   "execution_count": 8,
   "metadata": {},
   "outputs": [
    {
     "data": {
      "text/plain": [
       "array([0.05272921, 0.14750333, 0.05357802, 0.02785793, 0.07600302,\n",
       "       0.06890737, 0.29939416, 0.05013321, 0.04585426, 0.01915692,\n",
       "       0.06482609, 0.06297187, 0.03108467], dtype=float32)"
      ]
     },
     "execution_count": 8,
     "metadata": {},
     "output_type": "execute_result"
    }
   ],
   "source": [
    "model.feature_importances_"
   ]
  },
  {
   "cell_type": "code",
   "execution_count": null,
   "metadata": {},
   "outputs": [],
   "source": []
  },
  {
   "cell_type": "code",
   "execution_count": null,
   "metadata": {},
   "outputs": [],
   "source": []
  }
 ],
 "metadata": {
  "kernelspec": {
   "display_name": "Python 3",
   "language": "python",
   "name": "python3"
  },
  "language_info": {
   "codemirror_mode": {
    "name": "ipython",
    "version": 3
   },
   "file_extension": ".py",
   "mimetype": "text/x-python",
   "name": "python",
   "nbconvert_exporter": "python",
   "pygments_lexer": "ipython3",
   "version": "3.8.5"
  }
 },
 "nbformat": 4,
 "nbformat_minor": 4
}
