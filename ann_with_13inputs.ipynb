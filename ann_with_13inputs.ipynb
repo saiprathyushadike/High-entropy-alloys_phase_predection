{
 "cells": [
  {
   "cell_type": "code",
   "execution_count": 1,
   "id": "3c479789",
   "metadata": {},
   "outputs": [
    {
     "name": "stderr",
     "output_type": "stream",
     "text": [
      "Using TensorFlow backend.\n"
     ]
    }
   ],
   "source": [
    "import tensorflow as tf\n",
    "import pandas as pd\n",
    "from sklearn.model_selection import train_test_split\n",
    "import matplotlib.pyplot as plt\n",
    "import seaborn as sns\n",
    "from tensorflow.keras.models import Sequential\n",
    "from tensorflow.keras.layers import Dense,Dropout,Activation, Flatten, Conv2D, MaxPooling2D\n",
    "from keras.wrappers.scikit_learn import KerasClassifier\n",
    "from sklearn.model_selection import cross_val_score\n",
    "# Supress unnecessary warnings so that presentation looks clean\n",
    "import warnings\n",
    "warnings.filterwarnings(\"ignore\")"
   ]
  },
  {
   "cell_type": "code",
   "execution_count": 2,
   "id": "0c110d70",
   "metadata": {},
   "outputs": [
    {
     "data": {
      "text/html": [
       "<div>\n",
       "<style scoped>\n",
       "    .dataframe tbody tr th:only-of-type {\n",
       "        vertical-align: middle;\n",
       "    }\n",
       "\n",
       "    .dataframe tbody tr th {\n",
       "        vertical-align: top;\n",
       "    }\n",
       "\n",
       "    .dataframe thead th {\n",
       "        text-align: right;\n",
       "    }\n",
       "</style>\n",
       "<table border=\"1\" class=\"dataframe\">\n",
       "  <thead>\n",
       "    <tr style=\"text-align: right;\">\n",
       "      <th></th>\n",
       "      <th>Alloy</th>\n",
       "      <th>No</th>\n",
       "      <th>Component</th>\n",
       "      <th>Fraction</th>\n",
       "      <th>a</th>\n",
       "      <th>delta</th>\n",
       "      <th>Tm</th>\n",
       "      <th>D_Tm</th>\n",
       "      <th>Hmix</th>\n",
       "      <th>?Hmix</th>\n",
       "      <th>Sid</th>\n",
       "      <th>Elec_nega</th>\n",
       "      <th>D_elec_nega</th>\n",
       "      <th>VEC</th>\n",
       "      <th>d_VEC</th>\n",
       "      <th>BulkModulus</th>\n",
       "      <th>D_Bulk</th>\n",
       "      <th>Phase_inshort</th>\n",
       "    </tr>\n",
       "  </thead>\n",
       "  <tbody>\n",
       "    <tr>\n",
       "      <th>0</th>\n",
       "      <td>Zr45.38Ti9.62Cu8.75Ni10Be26.25</td>\n",
       "      <td>5</td>\n",
       "      <td>Zr Ti Cu Ni Be</td>\n",
       "      <td>45.38 9.62 8.75 10 26.25</td>\n",
       "      <td>1.400611</td>\n",
       "      <td>0.146608</td>\n",
       "      <td>1853.515475</td>\n",
       "      <td>283.938040</td>\n",
       "      <td>-37.996770</td>\n",
       "      <td>12.967122</td>\n",
       "      <td>1.378296</td>\n",
       "      <td>1.521077</td>\n",
       "      <td>0.211945</td>\n",
       "      <td>4.687500</td>\n",
       "      <td>2.909440</td>\n",
       "      <td>1.070000e+11</td>\n",
       "      <td>36.898355</td>\n",
       "      <td>AM</td>\n",
       "    </tr>\n",
       "    <tr>\n",
       "      <th>1</th>\n",
       "      <td>AlCoCu</td>\n",
       "      <td>3</td>\n",
       "      <td>Al Co Cu</td>\n",
       "      <td>7 1 2</td>\n",
       "      <td>1.383100</td>\n",
       "      <td>0.054241</td>\n",
       "      <td>1101.783000</td>\n",
       "      <td>278.066295</td>\n",
       "      <td>-5.400000</td>\n",
       "      <td>4.272798</td>\n",
       "      <td>0.801819</td>\n",
       "      <td>1.695000</td>\n",
       "      <td>0.129942</td>\n",
       "      <td>5.200000</td>\n",
       "      <td>3.400000</td>\n",
       "      <td>9.920000e+10</td>\n",
       "      <td>36.912870</td>\n",
       "      <td>IM</td>\n",
       "    </tr>\n",
       "    <tr>\n",
       "      <th>2</th>\n",
       "      <td>Al20Li20Mg10Sc20Ti30</td>\n",
       "      <td>5</td>\n",
       "      <td>Al Li Mg Sc Ti</td>\n",
       "      <td>20 20 10 20 30</td>\n",
       "      <td>1.517100</td>\n",
       "      <td>0.051625</td>\n",
       "      <td>1314.832000</td>\n",
       "      <td>600.177793</td>\n",
       "      <td>-0.400000</td>\n",
       "      <td>14.116742</td>\n",
       "      <td>1.557113</td>\n",
       "      <td>1.383000</td>\n",
       "      <td>0.225435</td>\n",
       "      <td>2.800000</td>\n",
       "      <td>1.077033</td>\n",
       "      <td>6.630000e+10</td>\n",
       "      <td>35.581034</td>\n",
       "      <td>SS</td>\n",
       "    </tr>\n",
       "    <tr>\n",
       "      <th>3</th>\n",
       "      <td>CoCrCuFeZr0.8</td>\n",
       "      <td>5</td>\n",
       "      <td>Co Cr Cu Fe Zr</td>\n",
       "      <td>1 1 1 1 0.8</td>\n",
       "      <td>1.312792</td>\n",
       "      <td>0.099336</td>\n",
       "      <td>1837.327083</td>\n",
       "      <td>295.977082</td>\n",
       "      <td>-9.687500</td>\n",
       "      <td>10.484101</td>\n",
       "      <td>1.605807</td>\n",
       "      <td>1.736250</td>\n",
       "      <td>0.201097</td>\n",
       "      <td>7.750000</td>\n",
       "      <td>2.349645</td>\n",
       "      <td>1.470000e+11</td>\n",
       "      <td>36.733420</td>\n",
       "      <td>AM+IM</td>\n",
       "    </tr>\n",
       "    <tr>\n",
       "      <th>4</th>\n",
       "      <td>Al0.5CoCrCuFeNiTi1.4</td>\n",
       "      <td>7</td>\n",
       "      <td>Al Co Cr Cu Fe Ni Ti</td>\n",
       "      <td>0.5 1 1 1 1 1 1.4</td>\n",
       "      <td>1.308377</td>\n",
       "      <td>0.069377</td>\n",
       "      <td>1743.319565</td>\n",
       "      <td>324.684788</td>\n",
       "      <td>-14.022264</td>\n",
       "      <td>9.492334</td>\n",
       "      <td>1.913480</td>\n",
       "      <td>1.759565</td>\n",
       "      <td>0.147643</td>\n",
       "      <td>7.405797</td>\n",
       "      <td>2.704365</td>\n",
       "      <td>1.480000e+11</td>\n",
       "      <td>32.645454</td>\n",
       "      <td>IM+SS</td>\n",
       "    </tr>\n",
       "  </tbody>\n",
       "</table>\n",
       "</div>"
      ],
      "text/plain": [
       "                            Alloy  No             Component  \\\n",
       "0  Zr45.38Ti9.62Cu8.75Ni10Be26.25   5        Zr Ti Cu Ni Be   \n",
       "1                          AlCoCu   3              Al Co Cu   \n",
       "2            Al20Li20Mg10Sc20Ti30   5        Al Li Mg Sc Ti   \n",
       "3                  CoCrCuFeZr0.8    5        Co Cr Cu Fe Zr   \n",
       "4           Al0.5CoCrCuFeNiTi1.4    7  Al Co Cr Cu Fe Ni Ti   \n",
       "\n",
       "                   Fraction         a     delta           Tm        D_Tm  \\\n",
       "0  45.38 9.62 8.75 10 26.25  1.400611  0.146608  1853.515475  283.938040   \n",
       "1                     7 1 2  1.383100  0.054241  1101.783000  278.066295   \n",
       "2            20 20 10 20 30  1.517100  0.051625  1314.832000  600.177793   \n",
       "3               1 1 1 1 0.8  1.312792  0.099336  1837.327083  295.977082   \n",
       "4         0.5 1 1 1 1 1 1.4  1.308377  0.069377  1743.319565  324.684788   \n",
       "\n",
       "        Hmix      ?Hmix       Sid  Elec_nega  D_elec_nega       VEC     d_VEC  \\\n",
       "0 -37.996770  12.967122  1.378296   1.521077     0.211945  4.687500  2.909440   \n",
       "1  -5.400000   4.272798  0.801819   1.695000     0.129942  5.200000  3.400000   \n",
       "2  -0.400000  14.116742  1.557113   1.383000     0.225435  2.800000  1.077033   \n",
       "3  -9.687500  10.484101  1.605807   1.736250     0.201097  7.750000  2.349645   \n",
       "4 -14.022264   9.492334  1.913480   1.759565     0.147643  7.405797  2.704365   \n",
       "\n",
       "    BulkModulus     D_Bulk Phase_inshort  \n",
       "0  1.070000e+11  36.898355            AM  \n",
       "1  9.920000e+10  36.912870            IM  \n",
       "2  6.630000e+10  35.581034            SS  \n",
       "3  1.470000e+11  36.733420         AM+IM  \n",
       "4  1.480000e+11  32.645454         IM+SS  "
      ]
     },
     "execution_count": 2,
     "metadata": {},
     "output_type": "execute_result"
    }
   ],
   "source": [
    "dataset = pd.read_csv(r'E:\\yjn6gtwcdb-1\\yjn6gtwcdb-1\\HEA Phase Prediction_Datasets and Code\\AM_IM_SS_Multi.csv')\n",
    "dataset.head()"
   ]
  },
  {
   "cell_type": "code",
   "execution_count": 3,
   "id": "f3b483f8",
   "metadata": {},
   "outputs": [
    {
     "data": {
      "text/plain": [
       "<AxesSubplot:xlabel='Phase_inshort', ylabel='count'>"
      ]
     },
     "execution_count": 3,
     "metadata": {},
     "output_type": "execute_result"
    },
    {
     "data": {
      "image/png": "[encoded data removed]",
      "text/plain": [
       "<Figure size 432x288 with 1 Axes>"
      ]
     },
     "metadata": {
      "needs_background": "light"
     },
     "output_type": "display_data"
    }
   ],
   "source": [
    "sns.countplot(dataset['Phase_inshort'],label=\"Count\")"
   ]
  },
  {
   "cell_type": "code",
   "execution_count": 4,
   "id": "0c9400fd",
   "metadata": {},
   "outputs": [],
   "source": [
    "X = dataset.iloc[:,4:17].values\n",
    "y = dataset.iloc[:,17].values"
   ]
  },
  {
   "cell_type": "code",
   "execution_count": 5,
   "id": "a0488c2f",
   "metadata": {},
   "outputs": [],
   "source": [
    "from sklearn.preprocessing import MinMaxScaler\n",
    "scaler = MinMaxScaler(feature_range=(0, 1))\n",
    "X = scaler.fit_transform(X)\n",
    "X = pd.DataFrame(X)"
   ]
  },
  {
   "cell_type": "code",
   "execution_count": 6,
   "id": "51f9c2b8",
   "metadata": {},
   "outputs": [
    {
     "name": "stdout",
     "output_type": "stream",
     "text": [
      "AM       165\n",
      "AM+IM      6\n",
      "IM       248\n",
      "IM+SS     51\n",
      "SS       131\n",
      "dtype: int64\n"
     ]
    }
   ],
   "source": [
    "print(dataset.groupby(y).size())"
   ]
  },
  {
   "cell_type": "code",
   "execution_count": 7,
   "id": "4e1ae01f",
   "metadata": {},
   "outputs": [],
   "source": [
    "X = X.values"
   ]
  },
  {
   "cell_type": "code",
   "execution_count": 8,
   "id": "355dd5c5",
   "metadata": {},
   "outputs": [],
   "source": [
    "def baseline_model():\n",
    "    # Create model here\n",
    "    model = Sequential()\n",
    "    model.add(Dense(13, input_dim = 13, activation = 'relu')) # Rectified Linear Unit Activation Function\n",
    "    model.add(Dense(26, activation = 'relu'))\n",
    "    model.add(Dense(26, activation = 'relu'))\n",
    "    model.add(Dense(26, activation = 'relu'))\n",
    "    model.add(Dense(26, activation = 'relu'))\n",
    "    model.add(Dense(5, activation = 'softmax')) # Softmax for multi-class classification\n",
    "    # Compile model here\n",
    "    model.compile(loss = 'categorical_crossentropy', optimizer = 'adam', metrics = ['accuracy'])\n",
    "    return model"
   ]
  },
  {
   "cell_type": "code",
   "execution_count": 9,
   "id": "245c313f",
   "metadata": {},
   "outputs": [],
   "source": [
    "estimator = KerasClassifier(build_fn = baseline_model, epochs = 100, batch_size = 10, verbose = 0)"
   ]
  },
  {
   "cell_type": "code",
   "execution_count": 10,
   "id": "e8027a1b",
   "metadata": {},
   "outputs": [
    {
     "name": "stdout",
     "output_type": "stream",
     "text": [
      "('You must install pydot (`pip install pydot`) and install graphviz (see instructions at https://graphviz.gitlab.io/download/) ', 'for plot_model/model_to_dot to work.')\n"
     ]
    }
   ],
   "source": [
    "from tensorflow.keras.utils import plot_model\n",
    "plot_model(baseline_model, to_file='model.png')"
   ]
  },
  {
   "cell_type": "code",
   "execution_count": 11,
   "id": "68a6713d",
   "metadata": {},
   "outputs": [],
   "source": [
    "from sklearn.model_selection import KFold\n",
    "kfold = KFold(n_splits = 10, shuffle = True, random_state = 1)"
   ]
  },
  {
   "cell_type": "code",
   "execution_count": 12,
   "id": "fc8e0d4d",
   "metadata": {},
   "outputs": [
    {
     "name": "stdout",
     "output_type": "stream",
     "text": [
      "Result: 84.19% (3.69%)\n"
     ]
    }
   ],
   "source": [
    "results = cross_val_score(estimator, X, y, cv = kfold)\n",
    "# Result\n",
    "\n",
    "print(\"Result: %.2f%% (%.2f%%)\" % (results.mean()*100, results.std()*100))\n"
   ]
  },
  {
   "cell_type": "code",
   "execution_count": 13,
   "id": "e886e828",
   "metadata": {},
   "outputs": [],
   "source": [
    "from sklearn.model_selection import cross_val_predict\n",
    "y_pred = cross_val_predict(estimator, X, y, cv = kfold)"
   ]
  },
  {
   "cell_type": "code",
   "execution_count": 14,
   "id": "532008e8",
   "metadata": {},
   "outputs": [
    {
     "data": {
      "text/plain": [
       "array(['AM', 'IM', 'SS', 'AM+IM', 'IM+SS', 'IM', 'AM', 'IM', 'AM', 'SS',\n",
       "       'IM', 'SS', 'SS', 'IM', 'AM', 'IM', 'IM', 'AM', 'IM', 'SS', 'SS',\n",
       "       'IM', 'AM', 'IM', 'IM', 'SS', 'SS', 'SS', 'SS', 'AM', 'AM', 'AM',\n",
       "       'AM', 'AM', 'SS', 'IM', 'SS', 'AM', 'IM', 'SS', 'IM', 'IM+SS',\n",
       "       'IM+SS', 'AM', 'SS', 'IM+SS', 'IM', 'AM', 'SS', 'AM', 'SS', 'SS',\n",
       "       'IM', 'AM', 'AM', 'AM', 'SS', 'IM+SS', 'AM', 'IM', 'SS', 'IM+SS',\n",
       "       'IM', 'AM', 'IM', 'AM', 'IM', 'AM', 'IM+SS', 'IM', 'SS', 'SS',\n",
       "       'AM', 'IM', 'IM', 'IM', 'AM', 'SS', 'IM', 'AM', 'SS', 'SS', 'SS',\n",
       "       'IM', 'AM', 'IM', 'IM', 'SS', 'IM', 'IM', 'IM', 'IM', 'SS', 'SS',\n",
       "       'SS', 'AM', 'IM', 'SS', 'SS', 'AM', 'AM', 'SS', 'SS', 'AM', 'SS',\n",
       "       'IM', 'IM', 'AM', 'IM', 'AM', 'SS', 'SS', 'IM', 'SS', 'IM', 'IM',\n",
       "       'SS', 'SS', 'IM', 'IM+SS', 'AM', 'AM', 'AM', 'IM', 'AM', 'SS',\n",
       "       'SS', 'IM', 'SS', 'AM', 'IM', 'IM', 'SS', 'IM', 'AM', 'AM', 'AM',\n",
       "       'IM', 'AM', 'IM', 'AM', 'IM', 'IM+SS', 'IM', 'IM', 'SS', 'AM',\n",
       "       'IM', 'IM', 'IM', 'AM', 'AM', 'IM+SS', 'IM', 'AM', 'SS', 'AM',\n",
       "       'IM+SS', 'SS', 'SS', 'IM+SS', 'SS', 'IM', 'IM', 'IM', 'AM', 'AM',\n",
       "       'IM', 'AM', 'IM', 'AM', 'SS', 'IM+SS', 'IM', 'IM', 'IM+SS', 'IM',\n",
       "       'IM+SS', 'IM', 'SS', 'SS', 'IM', 'AM+IM', 'IM', 'IM', 'SS', 'IM',\n",
       "       'IM', 'AM', 'IM', 'IM+SS', 'IM', 'IM', 'IM', 'IM', 'IM', 'SS',\n",
       "       'SS', 'IM+SS', 'IM', 'IM', 'IM', 'AM', 'SS', 'IM', 'IM', 'SS',\n",
       "       'IM+SS', 'SS', 'IM+SS', 'IM', 'AM', 'IM+SS', 'SS', 'AM', 'AM',\n",
       "       'IM', 'IM', 'IM', 'IM', 'IM', 'AM', 'AM', 'IM', 'IM+SS', 'AM',\n",
       "       'IM', 'IM', 'IM', 'AM', 'AM+IM', 'AM', 'SS', 'SS', 'IM+SS', 'SS',\n",
       "       'AM', 'IM', 'IM', 'SS', 'AM', 'AM', 'AM', 'IM', 'SS', 'AM', 'SS',\n",
       "       'IM', 'IM+SS', 'IM', 'IM', 'SS', 'AM', 'AM', 'AM', 'IM+SS', 'IM',\n",
       "       'IM', 'IM', 'AM', 'IM', 'IM', 'IM', 'SS', 'AM', 'AM', 'IM', 'SS',\n",
       "       'IM', 'IM', 'SS', 'IM', 'SS', 'SS', 'IM+SS', 'SS', 'IM', 'AM',\n",
       "       'IM', 'AM', 'IM', 'IM', 'IM', 'IM', 'IM', 'AM', 'IM', 'AM', 'AM',\n",
       "       'AM', 'IM', 'AM', 'AM', 'IM', 'IM', 'IM', 'SS', 'SS', 'IM', 'IM',\n",
       "       'IM+SS', 'AM+IM', 'IM', 'SS', 'SS', 'SS', 'AM+IM', 'IM', 'SS',\n",
       "       'IM+SS', 'AM', 'IM', 'SS', 'AM', 'IM', 'IM', 'IM', 'IM+SS', 'AM',\n",
       "       'IM', 'IM', 'AM', 'AM', 'AM', 'IM', 'SS', 'IM', 'AM+IM', 'IM',\n",
       "       'AM', 'IM+SS', 'IM', 'AM', 'SS', 'AM', 'AM', 'AM', 'IM', 'SS',\n",
       "       'IM', 'IM', 'AM', 'AM', 'SS', 'AM', 'SS', 'IM', 'AM', 'IM', 'IM',\n",
       "       'IM', 'IM', 'AM', 'IM', 'AM', 'AM', 'AM', 'SS', 'IM', 'IM', 'IM',\n",
       "       'IM', 'IM', 'IM', 'IM', 'AM', 'IM', 'IM', 'IM', 'IM', 'IM', 'IM',\n",
       "       'IM', 'IM+SS', 'SS', 'AM', 'IM', 'IM', 'IM', 'IM', 'SS', 'IM',\n",
       "       'IM', 'AM', 'SS', 'AM', 'IM', 'SS', 'AM', 'SS', 'SS', 'SS',\n",
       "       'IM+SS', 'AM', 'IM+SS', 'IM', 'AM', 'AM', 'IM', 'AM', 'AM', 'AM',\n",
       "       'SS', 'IM', 'SS', 'IM', 'IM+SS', 'AM', 'IM+SS', 'AM', 'IM', 'AM',\n",
       "       'IM', 'SS', 'IM', 'IM', 'SS', 'IM+SS', 'IM', 'AM', 'IM', 'IM',\n",
       "       'AM', 'IM+SS', 'IM+SS', 'AM', 'AM', 'SS', 'IM', 'AM', 'IM', 'IM',\n",
       "       'IM', 'SS', 'IM', 'IM+SS', 'AM', 'IM', 'SS', 'IM', 'IM', 'SS',\n",
       "       'SS', 'AM', 'SS', 'IM', 'IM', 'IM', 'AM', 'AM', 'AM', 'AM', 'AM',\n",
       "       'AM', 'AM', 'SS', 'SS', 'AM', 'AM', 'AM', 'IM', 'SS', 'SS', 'SS',\n",
       "       'AM', 'IM+SS', 'IM', 'IM+SS', 'IM', 'AM', 'IM', 'AM', 'IM+SS',\n",
       "       'IM', 'IM', 'IM', 'IM', 'IM+SS', 'IM', 'AM', 'IM', 'IM', 'IM',\n",
       "       'IM+SS', 'IM', 'IM', 'IM', 'SS', 'SS', 'IM', 'AM', 'IM', 'AM',\n",
       "       'SS', 'SS', 'AM', 'AM', 'IM', 'IM', 'AM', 'IM', 'SS', 'IM', 'SS',\n",
       "       'SS', 'IM', 'SS', 'SS', 'IM', 'SS', 'IM+SS', 'AM', 'IM', 'IM',\n",
       "       'IM', 'IM', 'SS', 'SS', 'IM', 'SS', 'AM', 'AM', 'AM', 'AM', 'IM',\n",
       "       'SS', 'AM', 'IM+SS', 'IM', 'AM', 'IM+SS', 'IM', 'IM', 'IM', 'AM',\n",
       "       'IM', 'IM', 'IM', 'SS', 'IM', 'AM', 'IM', 'IM+SS', 'IM', 'IM',\n",
       "       'IM', 'AM', 'IM', 'SS', 'AM', 'SS', 'AM', 'SS', 'IM', 'IM', 'AM',\n",
       "       'IM', 'AM', 'AM', 'IM', 'SS', 'AM', 'IM', 'IM+SS', 'IM', 'AM',\n",
       "       'SS', 'IM', 'AM', 'IM', 'IM', 'IM', 'IM', 'SS', 'IM', 'SS',\n",
       "       'IM+SS', 'IM', 'IM', 'AM', 'IM', 'AM', 'IM', 'AM', 'IM', 'IM',\n",
       "       'SS', 'AM', 'IM', 'SS', 'SS', 'IM+SS', 'AM', 'IM', 'AM', 'IM',\n",
       "       'IM', 'AM', 'AM', 'IM', 'IM+SS'], dtype=object)"
      ]
     },
     "execution_count": 14,
     "metadata": {},
     "output_type": "execute_result"
    }
   ],
   "source": [
    "y"
   ]
  },
  {
   "cell_type": "code",
   "execution_count": 15,
   "id": "b1fc1cbf",
   "metadata": {},
   "outputs": [
    {
     "data": {
      "text/plain": [
       "array(['AM', 'IM', 'SS', 'AM+IM', 'IM+SS', 'IM', 'AM', 'IM', 'AM', 'SS',\n",
       "       'IM', 'SS', 'SS', 'IM', 'AM', 'IM', 'IM', 'AM', 'IM', 'SS', 'SS',\n",
       "       'IM', 'AM', 'IM', 'IM', 'SS', 'SS', 'SS', 'SS', 'AM', 'AM', 'AM',\n",
       "       'AM', 'AM', 'IM', 'IM', 'SS', 'AM', 'IM', 'IM+SS', 'IM', 'IM+SS',\n",
       "       'SS', 'AM', 'SS', 'SS', 'IM', 'AM', 'SS', 'IM+SS', 'SS', 'SS',\n",
       "       'IM', 'AM', 'AM', 'AM', 'SS', 'SS', 'AM', 'IM', 'SS', 'SS', 'IM',\n",
       "       'AM', 'IM', 'AM', 'IM', 'AM', 'IM+SS', 'IM', 'SS', 'IM', 'AM',\n",
       "       'IM', 'IM', 'IM', 'AM', 'SS', 'IM', 'SS', 'SS', 'AM+IM', 'SS',\n",
       "       'IM', 'AM', 'IM', 'IM', 'SS', 'IM', 'IM', 'IM', 'IM', 'SS', 'SS',\n",
       "       'IM+SS', 'AM', 'IM', 'SS', 'SS', 'AM', 'AM', 'SS', 'SS', 'AM',\n",
       "       'IM+SS', 'IM', 'IM', 'IM', 'IM', 'AM', 'SS', 'SS', 'IM', 'SS',\n",
       "       'IM', 'IM', 'SS', 'SS', 'IM', 'SS', 'AM', 'AM', 'AM', 'IM', 'AM',\n",
       "       'SS', 'SS', 'IM', 'SS', 'AM', 'IM', 'AM', 'IM+SS', 'IM', 'AM',\n",
       "       'AM', 'AM', 'IM', 'IM', 'IM', 'AM', 'IM', 'IM+SS', 'IM', 'IM',\n",
       "       'SS', 'AM', 'IM', 'IM', 'IM', 'AM', 'AM', 'IM+SS', 'IM', 'AM',\n",
       "       'SS', 'AM', 'SS', 'SS', 'SS', 'IM+SS', 'SS', 'IM', 'IM', 'IM',\n",
       "       'AM', 'AM', 'IM', 'AM', 'SS', 'AM', 'SS', 'IM+SS', 'IM', 'IM',\n",
       "       'IM+SS', 'IM', 'SS', 'IM', 'SS', 'SS', 'IM', 'AM+IM', 'IM', 'IM',\n",
       "       'SS', 'IM', 'IM', 'IM', 'IM', 'IM+SS', 'IM', 'IM', 'IM', 'IM',\n",
       "       'IM', 'SS', 'SS', 'IM+SS', 'IM', 'IM', 'IM', 'AM', 'SS', 'IM',\n",
       "       'IM', 'IM+SS', 'IM+SS', 'SS', 'SS', 'IM', 'IM', 'IM+SS', 'SS',\n",
       "       'AM', 'AM', 'IM', 'IM', 'IM', 'IM', 'IM', 'AM', 'AM', 'IM', 'SS',\n",
       "       'AM', 'IM', 'IM', 'IM', 'AM', 'IM+SS', 'AM', 'SS', 'SS', 'SS',\n",
       "       'SS', 'IM', 'AM', 'IM', 'SS', 'AM', 'AM', 'AM', 'IM', 'SS', 'IM',\n",
       "       'SS', 'IM', 'SS', 'IM', 'IM', 'SS', 'AM', 'AM', 'AM', 'SS', 'IM',\n",
       "       'IM', 'IM', 'AM', 'IM', 'IM', 'IM', 'SS', 'AM', 'AM', 'IM', 'SS',\n",
       "       'IM', 'IM', 'SS', 'SS', 'SS', 'IM+SS', 'IM+SS', 'SS', 'IM', 'IM',\n",
       "       'IM', 'AM', 'IM', 'IM', 'IM', 'IM', 'IM', 'AM', 'IM', 'AM', 'AM',\n",
       "       'AM', 'AM', 'AM', 'AM', 'IM', 'IM', 'IM', 'SS', 'SS', 'IM', 'SS',\n",
       "       'IM', 'AM', 'IM', 'IM', 'SS', 'SS', 'IM+SS', 'AM', 'SS', 'SS',\n",
       "       'AM', 'IM', 'SS', 'AM', 'IM', 'IM', 'IM', 'AM', 'AM', 'IM', 'IM',\n",
       "       'AM', 'AM', 'AM', 'IM', 'SS', 'IM', 'SS', 'IM', 'AM', 'SS', 'SS',\n",
       "       'AM', 'SS', 'AM', 'IM+SS', 'AM', 'IM', 'SS', 'IM', 'IM', 'AM',\n",
       "       'AM', 'SS', 'AM', 'SS', 'IM', 'AM', 'IM', 'IM', 'IM', 'IM', 'AM',\n",
       "       'IM+SS', 'AM', 'AM', 'AM', 'SS', 'AM', 'IM', 'IM', 'IM', 'IM',\n",
       "       'IM', 'IM', 'AM', 'AM', 'IM', 'IM', 'IM', 'AM', 'IM', 'IM',\n",
       "       'IM+SS', 'IM', 'IM', 'IM', 'IM', 'IM', 'IM', 'SS', 'IM', 'IM',\n",
       "       'AM', 'SS', 'AM', 'IM', 'SS', 'IM', 'SS', 'SS', 'SS', 'SS', 'AM',\n",
       "       'SS', 'IM', 'AM', 'AM', 'IM', 'IM+SS', 'AM', 'AM', 'SS', 'IM',\n",
       "       'SS', 'AM', 'IM+SS', 'AM', 'SS', 'AM', 'IM', 'IM', 'IM', 'SS',\n",
       "       'IM', 'IM', 'SS', 'IM+SS', 'IM', 'AM', 'IM', 'IM', 'AM', 'IM+SS',\n",
       "       'IM+SS', 'AM', 'AM', 'SS', 'IM', 'AM', 'IM', 'IM', 'IM', 'SS',\n",
       "       'IM', 'IM+SS', 'AM', 'IM', 'SS', 'IM', 'IM', 'SS', 'SS', 'AM',\n",
       "       'IM', 'IM', 'IM', 'IM', 'AM', 'AM', 'AM', 'AM', 'AM', 'AM', 'AM',\n",
       "       'SS', 'SS', 'AM', 'IM', 'AM', 'IM', 'IM+SS', 'SS', 'SS', 'AM',\n",
       "       'AM', 'IM', 'IM+SS', 'IM', 'AM', 'IM', 'AM', 'SS', 'IM', 'SS',\n",
       "       'IM', 'IM', 'IM+SS', 'IM', 'AM', 'AM', 'IM', 'IM', 'IM+SS', 'IM',\n",
       "       'IM', 'IM', 'SS', 'SS', 'IM', 'AM', 'IM', 'AM', 'SS', 'SS', 'AM',\n",
       "       'SS', 'IM', 'IM', 'AM', 'IM', 'SS', 'IM', 'SS', 'SS', 'AM', 'SS',\n",
       "       'SS', 'IM', 'IM+SS', 'SS', 'AM', 'IM', 'IM+SS', 'IM', 'IM', 'SS',\n",
       "       'SS', 'IM', 'IM+SS', 'AM', 'AM', 'AM', 'AM', 'IM', 'SS', 'AM',\n",
       "       'IM+SS', 'IM', 'AM', 'IM+SS', 'IM', 'IM', 'IM', 'AM', 'IM+SS',\n",
       "       'IM', 'IM', 'SS', 'IM', 'AM', 'IM', 'IM+SS', 'IM', 'IM', 'IM',\n",
       "       'IM', 'IM', 'SS', 'AM', 'SS', 'AM', 'SS', 'IM', 'IM', 'AM', 'IM',\n",
       "       'AM', 'AM', 'IM', 'SS', 'AM', 'IM', 'IM+SS', 'IM', 'AM', 'SS',\n",
       "       'IM', 'AM', 'IM', 'IM', 'IM', 'IM', 'SS', 'IM', 'SS', 'SS', 'IM',\n",
       "       'AM', 'AM', 'IM', 'AM', 'IM', 'IM', 'IM', 'IM', 'AM', 'AM', 'IM',\n",
       "       'SS', 'SS', 'SS', 'AM', 'IM', 'AM', 'IM', 'IM', 'AM', 'AM', 'IM',\n",
       "       'IM+SS'], dtype=object)"
      ]
     },
     "execution_count": 15,
     "metadata": {},
     "output_type": "execute_result"
    }
   ],
   "source": [
    "y_pred"
   ]
  },
  {
   "cell_type": "code",
   "execution_count": 16,
   "id": "ba10ea93",
   "metadata": {},
   "outputs": [
    {
     "data": {
      "text/plain": [
       "array([[147,   0,  13,   3,   2],\n",
       "       [  1,   2,   0,   2,   1],\n",
       "       [ 11,   0, 229,   3,   5],\n",
       "       [  2,   0,   1,  27,  21],\n",
       "       [  1,   1,   5,   9, 115]], dtype=int64)"
      ]
     },
     "execution_count": 16,
     "metadata": {},
     "output_type": "execute_result"
    }
   ],
   "source": [
    "from sklearn.metrics import confusion_matrix\n",
    "confusion_matrix(y, y_pred)"
   ]
  },
  {
   "cell_type": "code",
   "execution_count": 17,
   "id": "b8d24b5f",
   "metadata": {},
   "outputs": [
    {
     "ename": "SyntaxError",
     "evalue": "invalid syntax (Temp/ipykernel_11040/1933637684.py, line 1)",
     "output_type": "error",
     "traceback": [
      "\u001b[1;36m  File \u001b[1;32m\"C:\\Users\\admin\\AppData\\Local\\Temp/ipykernel_11040/1933637684.py\"\u001b[1;36m, line \u001b[1;32m1\u001b[0m\n\u001b[1;33m    .\u001b[0m\n\u001b[1;37m    ^\u001b[0m\n\u001b[1;31mSyntaxError\u001b[0m\u001b[1;31m:\u001b[0m invalid syntax\n"
     ]
    }
   ],
   "source": [
    "."
   ]
  },
  {
   "cell_type": "code",
   "execution_count": null,
   "id": "164cb343",
   "metadata": {},
   "outputs": [],
   "source": []
  }
 ],
 "metadata": {
  "kernelspec": {
   "display_name": "Python 3 (ipykernel)",
   "language": "python",
   "name": "python3"
  },
  "language_info": {
   "codemirror_mode": {
    "name": "ipython",
    "version": 3
   },
   "file_extension": ".py",
   "mimetype": "text/x-python",
   "name": "python",
   "nbconvert_exporter": "python",
   "pygments_lexer": "ipython3",
   "version": "3.8.12"
  }
 },
 "nbformat": 4,
 "nbformat_minor": 5
}
